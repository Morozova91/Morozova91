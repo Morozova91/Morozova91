{
 "cells": [
  {
   "cell_type": "code",
   "execution_count": 1,
   "metadata": {},
   "outputs": [],
   "source": [
    "import pandas as pd\n",
    "import matplotlib.pyplot as plt\n",
    "from scipy import stats as st\n",
    "from scipy.stats import norm\n",
    "from scipy.stats import t\n",
    "import math as mth\n",
    "import plotly.express as px\n",
    "import seaborn as sns\n",
    "import psycopg2\n",
    "from psycopg2 import extras\n",
    "import numpy as np\n",
    "import itertools\n",
    "from itertools import combinations\n",
    "from collections import Counter"
   ]
  },
  {
   "attachments": {},
   "cell_type": "markdown",
   "metadata": {},
   "source": [
    "### Подготовим файл с данными по продажам курсов в разрезе пользователей (купивших более одного курса)\n",
    "SQL-запрос:  \n",
    "\n",
    "WITH more_than_one  AS  \n",
    "(  \n",
    "SELECT   \n",
    "    carts.user_id,  \n",
    "    count (items.resource_id)  \n",
    "FROM final.cart_items  AS  items  \n",
    "    JOIN final.carts ON items.cart_id = carts.id  \n",
    "WHERE resource_type = 'Course' AND state = 'successful'  \n",
    "GROUP BY 1  \n",
    "HAVING count (distinct items.resource_id) > 1  \n",
    ")  \n",
    "SELECT   \n",
    "   \n",
    "    distinct more_than_one.user_id,  \n",
    "    items.resource_id  \n",
    "FROM more_than_one  \n",
    "    JOIN final.carts ON more_than_one.user_id = carts.user_id  \n",
    "    JOIN final.cart_items  AS items ON items.cart_id = carts.id  \n",
    "    WHERE resource_type = 'Course' AND state = 'successful'  \n",
    "ORDER BY 1,2  \n",
    "\n",
    "Чтобы в дальнейшем работать с данными и провести рекомендации клиентам \n"
   ]
  },
  {
   "cell_type": "code",
   "execution_count": 2,
   "metadata": {},
   "outputs": [],
   "source": [
    "#Подготовили файл с данными по продажам курсов в разрезе пользователей (купивших более одного курса)\n",
    "def getmore_than_one():\n",
    "    query = '''WITH more_than_one  AS\n",
    "(\n",
    "SELECT \n",
    "    carts.user_id,\n",
    "    count (items.resource_id)\n",
    "FROM final.cart_items  AS  items\n",
    "    JOIN final.carts ON items.cart_id = carts.id\n",
    "WHERE resource_type = 'Course' AND state = 'successful' \n",
    "GROUP BY 1\n",
    "HAVING count (distinct items.resource_id) > 1\n",
    ")\n",
    "SELECT \n",
    "   \n",
    "    distinct more_than_one.user_id,\n",
    "    items.resource_id\n",
    "FROM more_than_one\n",
    "    JOIN final.carts ON more_than_one.user_id = carts.user_id\n",
    "    JOIN final.cart_items  AS items ON items.cart_id = carts.id\n",
    "    WHERE resource_type = 'Course' AND state = 'successful'\n",
    "ORDER BY 1,2\n",
    " '''.format()\n",
    "    conn = psycopg2.connect(\"dbname='skillfactory' user='skillfactory' host='84.201.134.129' password='cCkxxLVrDE8EbvjueeMedPKt' port=5432\")\n",
    "    dict_cur = conn.cursor(cursor_factory=psycopg2.extras.DictCursor)\n",
    "    dict_cur.execute(query)\n",
    "    rows = dict_cur.fetchall()\n",
    "    data = []\n",
    "    for row in rows:\n",
    "        data.append(dict(row))\n",
    "    return data\n",
    "d = pd.DataFrame(getmore_than_one())"
   ]
  },
  {
   "attachments": {},
   "cell_type": "markdown",
   "metadata": {},
   "source": [
    "### Далее выявляем сколько пар различных курсов встречаются в покупках клиентов и выявить самую популярную пару курсов"
   ]
  },
  {
   "cell_type": "code",
   "execution_count": 3,
   "metadata": {},
   "outputs": [
    {
     "data": {
      "text/plain": [
       "[((551, 566), 797)]"
      ]
     },
     "execution_count": 3,
     "metadata": {},
     "output_type": "execute_result"
    }
   ],
   "source": [
    "pair = d.groupby('user_id')['resource_id'].apply(lambda x: list(np.unique(x))).reset_index()\n",
    "pairs = pd.DataFrame(pair['resource_id'].apply(lambda x: list(combinations(x, 2))))\n",
    "pairs_list = pairs['resource_id'].to_list()\n",
    "list_pair =[]\n",
    "for item in pairs_list:\n",
    "    for i in item:\n",
    "        list_pair.append(i)\n",
    "            \n",
    "set_pair = set(list_pair)\n",
    "len(set_pair) # Сколько различных пар курсов встречаются вместе в покупках клиентов: 3989\n",
    "count_pair = Counter(list_pair)\n",
    "count_pair.most_common(1) #самая популярная пара курсов.\n",
    "# в итоге мы узнали, что самая популярная пара курсов - ID 551 и ID 566, встречаются 797 раз в покупках клиентов\n",
    "\n",
    "       "
   ]
  },
  {
   "cell_type": "code",
   "execution_count": 4,
   "metadata": {},
   "outputs": [
    {
     "data": {
      "text/html": [
       "<div>\n",
       "<style scoped>\n",
       "    .dataframe tbody tr th:only-of-type {\n",
       "        vertical-align: middle;\n",
       "    }\n",
       "\n",
       "    .dataframe tbody tr th {\n",
       "        vertical-align: top;\n",
       "    }\n",
       "\n",
       "    .dataframe thead th {\n",
       "        text-align: right;\n",
       "    }\n",
       "</style>\n",
       "<table border=\"1\" class=\"dataframe\">\n",
       "  <thead>\n",
       "    <tr style=\"text-align: right;\">\n",
       "      <th></th>\n",
       "      <th>count</th>\n",
       "    </tr>\n",
       "  </thead>\n",
       "  <tbody>\n",
       "    <tr>\n",
       "      <th>count</th>\n",
       "      <td>3989.0</td>\n",
       "    </tr>\n",
       "    <tr>\n",
       "      <th>mean</th>\n",
       "      <td>10.0</td>\n",
       "    </tr>\n",
       "    <tr>\n",
       "      <th>std</th>\n",
       "      <td>26.0</td>\n",
       "    </tr>\n",
       "    <tr>\n",
       "      <th>min</th>\n",
       "      <td>1.0</td>\n",
       "    </tr>\n",
       "    <tr>\n",
       "      <th>25%</th>\n",
       "      <td>1.0</td>\n",
       "    </tr>\n",
       "    <tr>\n",
       "      <th>50%</th>\n",
       "      <td>3.0</td>\n",
       "    </tr>\n",
       "    <tr>\n",
       "      <th>75%</th>\n",
       "      <td>9.0</td>\n",
       "    </tr>\n",
       "    <tr>\n",
       "      <th>max</th>\n",
       "      <td>797.0</td>\n",
       "    </tr>\n",
       "  </tbody>\n",
       "</table>\n",
       "</div>"
      ],
      "text/plain": [
       "        count\n",
       "count  3989.0\n",
       "mean     10.0\n",
       "std      26.0\n",
       "min       1.0\n",
       "25%       1.0\n",
       "50%       3.0\n",
       "75%       9.0\n",
       "max     797.0"
      ]
     },
     "execution_count": 4,
     "metadata": {},
     "output_type": "execute_result"
    }
   ],
   "source": [
    "# Сформируем таблицу, для более удобного просмотра\n",
    "df_pair_cnt = pd.DataFrame.from_dict(count_pair, orient='Index').reset_index()\n",
    "df_pair_cnt = df_pair_cnt.rename(columns={'index':'pair',0:'count'})\n",
    "df_pair_cnt = df_pair_cnt.sort_values(by='count',ascending=False).reset_index(drop=True)\n",
    "df_pair_cnt.describe().round()\n",
    "# из этой таблицы можно увидеть, что максимальное количество купленных курсов составляет 797, количество различных курсов составляет 3989, \n",
    "# самая популярная пара курсов ID 551 и 566"
   ]
  },
  {
   "cell_type": "code",
   "execution_count": 5,
   "metadata": {},
   "outputs": [],
   "source": [
    "#Минимальную границу для рекомендации курсов берем выше третьего квартиля, то есть больше 9, так как выборка остается достаточно большой,\n",
    "#но и исключим при этом редко встречающиеся пары курсов\n",
    "#Самые популярные курсы\n",
    "df_pair_pop = df_pair_cnt[df_pair_cnt['count']> 9]\n"
   ]
  },
  {
   "cell_type": "code",
   "execution_count": 6,
   "metadata": {},
   "outputs": [
    {
     "data": {
      "text/plain": [
       "126"
      ]
     },
     "execution_count": 6,
     "metadata": {},
     "output_type": "execute_result"
    }
   ],
   "source": [
    "#Уникальные курсы в корзине\n",
    "course_unique = d['resource_id'].sort_values().unique().tolist()\n",
    "len(course_unique) # 126"
   ]
  },
  {
   "attachments": {},
   "cell_type": "markdown",
   "metadata": {},
   "source": [
    "### Запрос SQL - 127 уникальных курсов, что отличается от уникальных курсов в корзине -126, \n",
    "это связано с тем, что по ТЗ для рекомендаций нужно использовать только те курсы, которые приобретались клиентами.\n",
    "На этапе сбора данных учитывались все курсы, в том числе и не приобретенные, но которые находились в \"корзине\"  \n",
    "--select  \n",
    "--count(DISTINCT resource_id)  \n",
    "--from final.cart_items  \n",
    "--where resource_type = 'Course'   "
   ]
  },
  {
   "cell_type": "code",
   "execution_count": 7,
   "metadata": {},
   "outputs": [
    {
     "data": {
      "text/plain": [
       "127"
      ]
     },
     "execution_count": 7,
     "metadata": {},
     "output_type": "execute_result"
    }
   ],
   "source": [
    "\n",
    "df_courses = pd.read_csv('./unique_course.csv')\n",
    "courses_list = df_courses['resource_id'].sort_values().to_list()\n",
    "len(courses_list)\n"
   ]
  },
  {
   "cell_type": "code",
   "execution_count": 8,
   "metadata": {},
   "outputs": [
    {
     "data": {
      "text/plain": [
       "[772]"
      ]
     },
     "execution_count": 8,
     "metadata": {},
     "output_type": "execute_result"
    }
   ],
   "source": [
    "#Опеределяем ID курса, который не приобретался\n",
    "not_pair_course = list(set(courses_list) - set(course_unique))\n",
    "not_pair_course"
   ]
  },
  {
   "cell_type": "code",
   "execution_count": 9,
   "metadata": {},
   "outputs": [
    {
     "data": {
      "text/plain": [
       "[551, 566]"
      ]
     },
     "execution_count": 9,
     "metadata": {},
     "output_type": "execute_result"
    }
   ],
   "source": [
    "#Чтобы написать рекомендации, нам нужно определить, какие курсы самые популярные\n",
    "\n",
    "pop_courses = pd.DataFrame(d.groupby('resource_id')['user_id'].count()).reset_index()\n",
    "pop_courses = pop_courses.sort_values(by='user_id', ascending=False).reset_index()\n",
    "pop_courses_list = pop_courses['resource_id'][:2].to_list()\n",
    "pop_courses_list"
   ]
  },
  {
   "cell_type": "code",
   "execution_count": 15,
   "metadata": {},
   "outputs": [
    {
     "data": {
      "text/html": [
       "<div>\n",
       "<style scoped>\n",
       "    .dataframe tbody tr th:only-of-type {\n",
       "        vertical-align: middle;\n",
       "    }\n",
       "\n",
       "    .dataframe tbody tr th {\n",
       "        vertical-align: top;\n",
       "    }\n",
       "\n",
       "    .dataframe thead th {\n",
       "        text-align: right;\n",
       "    }\n",
       "</style>\n",
       "<table border=\"1\" class=\"dataframe\">\n",
       "  <thead>\n",
       "    <tr style=\"text-align: right;\">\n",
       "      <th></th>\n",
       "      <th>course</th>\n",
       "      <th>recom_1</th>\n",
       "      <th>recom_2</th>\n",
       "    </tr>\n",
       "  </thead>\n",
       "  <tbody>\n",
       "    <tr>\n",
       "      <th>0</th>\n",
       "      <td>772</td>\n",
       "      <td>551</td>\n",
       "      <td>566</td>\n",
       "    </tr>\n",
       "  </tbody>\n",
       "</table>\n",
       "</div>"
      ],
      "text/plain": [
       "   course  recom_1  recom_2\n",
       "0     772      551      566"
      ]
     },
     "execution_count": 15,
     "metadata": {},
     "output_type": "execute_result"
    }
   ],
   "source": [
    "#Создадим таблицу с рекомендациями, включая тот курс, который не приобретался\n",
    "data= {'course':[not_pair_course[0]], 'recom_1':[pop_courses_list[0]], 'recom_2': [pop_courses_list[1]]}\n",
    "df_recome = pd.DataFrame(data)\n",
    "df_recome"
   ]
  },
  {
   "cell_type": "code",
   "execution_count": 11,
   "metadata": {},
   "outputs": [
    {
     "data": {
      "text/plain": [
       "[((490, 566), 253), ((490, 551), 247)]"
      ]
     },
     "execution_count": 11,
     "metadata": {},
     "output_type": "execute_result"
    }
   ],
   "source": [
    "#Функция рекомендаций для курса\n",
    "def recom(course):\n",
    "    rec_list = []\n",
    "    for i in count_pair.keys():\n",
    "        if i[0] == course:\n",
    "            rec_list.append((i, count_pair[i]))  \n",
    "        elif i[1] == course:\n",
    "            rec_list.append((i, count_pair[i])) \n",
    "    rec_list = sorted(rec_list, key = lambda x:x[1],reverse= True )  \n",
    "    return rec_list[:2]  \n",
    "recom(490)\n",
    "        "
   ]
  },
  {
   "cell_type": "code",
   "execution_count": 12,
   "metadata": {},
   "outputs": [
    {
     "data": {
      "text/plain": [
       "9.0"
      ]
     },
     "execution_count": 12,
     "metadata": {},
     "output_type": "execute_result"
    }
   ],
   "source": [
    "#Установим лимит, так как данные берем третьего квартиля(75%) - 9.\n",
    "limits = np.percentile(df_pair_cnt['count'],75)\n",
    "limits"
   ]
  },
  {
   "cell_type": "code",
   "execution_count": 28,
   "metadata": {},
   "outputs": [
    {
     "data": {
      "text/html": [
       "<div>\n",
       "<style scoped>\n",
       "    .dataframe tbody tr th:only-of-type {\n",
       "        vertical-align: middle;\n",
       "    }\n",
       "\n",
       "    .dataframe tbody tr th {\n",
       "        vertical-align: top;\n",
       "    }\n",
       "\n",
       "    .dataframe thead th {\n",
       "        text-align: right;\n",
       "    }\n",
       "</style>\n",
       "<table border=\"1\" class=\"dataframe\">\n",
       "  <thead>\n",
       "    <tr style=\"text-align: right;\">\n",
       "      <th></th>\n",
       "      <th>course</th>\n",
       "      <th>recom_1</th>\n",
       "      <th>recom_2</th>\n",
       "    </tr>\n",
       "  </thead>\n",
       "  <tbody>\n",
       "    <tr>\n",
       "      <th>0</th>\n",
       "      <td>356</td>\n",
       "      <td>571</td>\n",
       "      <td>566</td>\n",
       "    </tr>\n",
       "    <tr>\n",
       "      <th>1</th>\n",
       "      <td>357</td>\n",
       "      <td>571</td>\n",
       "      <td>566</td>\n",
       "    </tr>\n",
       "    <tr>\n",
       "      <th>2</th>\n",
       "      <td>358</td>\n",
       "      <td>570</td>\n",
       "      <td>566</td>\n",
       "    </tr>\n",
       "    <tr>\n",
       "      <th>3</th>\n",
       "      <td>359</td>\n",
       "      <td>570</td>\n",
       "      <td>566</td>\n",
       "    </tr>\n",
       "    <tr>\n",
       "      <th>4</th>\n",
       "      <td>360</td>\n",
       "      <td>745</td>\n",
       "      <td>566</td>\n",
       "    </tr>\n",
       "    <tr>\n",
       "      <th>...</th>\n",
       "      <td>...</td>\n",
       "      <td>...</td>\n",
       "      <td>...</td>\n",
       "    </tr>\n",
       "    <tr>\n",
       "      <th>121</th>\n",
       "      <td>1188</td>\n",
       "      <td>1141</td>\n",
       "      <td>551</td>\n",
       "    </tr>\n",
       "    <tr>\n",
       "      <th>122</th>\n",
       "      <td>1198</td>\n",
       "      <td>551</td>\n",
       "      <td>551</td>\n",
       "    </tr>\n",
       "    <tr>\n",
       "      <th>123</th>\n",
       "      <td>1199</td>\n",
       "      <td>551</td>\n",
       "      <td>551</td>\n",
       "    </tr>\n",
       "    <tr>\n",
       "      <th>124</th>\n",
       "      <td>1200</td>\n",
       "      <td>551</td>\n",
       "      <td>551</td>\n",
       "    </tr>\n",
       "    <tr>\n",
       "      <th>125</th>\n",
       "      <td>1201</td>\n",
       "      <td>551</td>\n",
       "      <td>551</td>\n",
       "    </tr>\n",
       "  </tbody>\n",
       "</table>\n",
       "<p>126 rows × 3 columns</p>\n",
       "</div>"
      ],
      "text/plain": [
       "     course  recom_1  recom_2\n",
       "0       356      571      566\n",
       "1       357      571      566\n",
       "2       358      570      566\n",
       "3       359      570      566\n",
       "4       360      745      566\n",
       "..      ...      ...      ...\n",
       "121    1188     1141      551\n",
       "122    1198      551      551\n",
       "123    1199      551      551\n",
       "124    1200      551      551\n",
       "125    1201      551      551\n",
       "\n",
       "[126 rows x 3 columns]"
      ]
     },
     "execution_count": 28,
     "metadata": {},
     "output_type": "execute_result"
    }
   ],
   "source": [
    "df_table = pd.DataFrame()\n",
    "for i in course_unique:\n",
    "    course = i\n",
    "    if recom(i)[0][1] > limits:\n",
    "        if recom(i)[0][0][0] == course:\n",
    "            recom_1 = recom(i)[0][0][1]\n",
    "        else:\n",
    "            recom_1 = recom(i)[0][0][0]\n",
    "    elif recom(i)[1][1] > limits:\n",
    "        if recom(i)[1][0][0] == course:\n",
    "            recom_2 = recom(i)[1][0][1]\n",
    "        else:\n",
    "            recom_2 = recom(i)[1][0][0]\n",
    "    else:\n",
    "        recom_1 = pop_courses_list[0]\n",
    "        recom_2 = pop_courses_list[0]\n",
    "    df_recom = pd.DataFrame({'course':[course], 'recom_1':[recom_1], 'recom_2':[recom_2]})\n",
    "    df_table = pd.concat([df_table, df_recom], ignore_index=True) \n",
    "df_table    "
   ]
  },
  {
   "attachments": {},
   "cell_type": "markdown",
   "metadata": {},
   "source": [
    "Итоговая рекомендательная таблица"
   ]
  },
  {
   "attachments": {},
   "cell_type": "markdown",
   "metadata": {},
   "source": [
    "## Вывод\n",
    "Так как пара курсов ID 551 и ID 566 являются самыми популярными в продажах, по сравнению с остальными, то можно их рекомендовать для клиентов к приобретению? но чаще во второй рекомендации.Выборка делалась на основании третьего квартиля.\n",
    "Скорее всего, курс с ID 792 стоит исключить совсем из списка предлагаемых курсов, либо предложить его в качестве дополнительного курса к приобретенному, чтобы узнать, как \"доработать\" курс, чтобы он стал более популярным.\n",
    "Рекомендации выстроены из \"корзин\" покупателей, \"отложенных2 покупок в корзине, может из \"просмотренных\" вебинаров.\n"
   ]
  }
 ],
 "metadata": {
  "kernelspec": {
   "display_name": "Python 3",
   "language": "python",
   "name": "python3"
  },
  "language_info": {
   "codemirror_mode": {
    "name": "ipython",
    "version": 3
   },
   "file_extension": ".py",
   "mimetype": "text/x-python",
   "name": "python",
   "nbconvert_exporter": "python",
   "pygments_lexer": "ipython3",
   "version": "3.10.11"
  },
  "orig_nbformat": 4
 },
 "nbformat": 4,
 "nbformat_minor": 2
}
